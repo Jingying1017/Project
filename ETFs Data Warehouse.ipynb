{
  "nbformat": 4,
  "nbformat_minor": 0,
  "metadata": {
    "colab": {
      "name": "CIS4400 Group5.ipynb",
      "provenance": []
    },
    "kernelspec": {
      "name": "python3",
      "display_name": "Python 3"
    },
    "language_info": {
      "name": "python"
    }
  },
  "cells": [
    {
      "cell_type": "code",
      "metadata": {
        "id": "2h0vAk_RDIOd"
      },
      "source": [
        "#install pymysql and pandas on Python\n",
        "pip install pymysql\n",
        "pip install pandas"
      ],
      "execution_count": null,
      "outputs": []
    },
    {
      "cell_type": "code",
      "metadata": {
        "id": "H6jX7c35zbs3"
      },
      "source": [
        "import pandas as pd\n",
        "import numpy as np\n",
        "import pymysql"
      ],
      "execution_count": null,
      "outputs": []
    },
    {
      "cell_type": "code",
      "metadata": {
        "id": "CPjEc-0QsvPj"
      },
      "source": [
        "#Group 5 connect to mysql\n",
        "connection=pymysql.connect(host='127.0.0.1',\n",
        "                           user='root',\n",
        "                           password='Password123',\n",
        "                           db='project',\n",
        "                           cursorclass=pymysql.cursors.DictCursor)\n",
        "print(connection)\n",
        "cursor=connection.cursor()"
      ],
      "execution_count": null,
      "outputs": []
    },
    {
      "cell_type": "code",
      "metadata": {
        "id": "HovmO8pD95RW"
      },
      "source": [
        "#Drop the exists tables\n",
        "cursor.execute(\"Drop table if exists Fund_dim;\")\n",
        "cursor.execute(\"Drop table if exists Risk_dim;\")\n",
        "cursor.execute(\"Drop table if exists Returns_dim;\")\n",
        "cursor.execute(\"Drop table if exists Yield_dim;\")\n",
        "cursor.execute(\"Drop table if exists Expense_dim;\")\n",
        "cursor.execute(\"Drop table if exists Fund_fact;\")\n",
        "cursor.execute(\"Drop table if exists Firm_fact;\")\n",
        "cursor.execute(\"Drop table if exists Firm_dim;\")\n",
        "cursor.execute(\"Drop table if exists PE_dim;\")\n",
        "cursor.execute(\"Drop table if exists EPS_dim;\")"
      ],
      "execution_count": null,
      "outputs": []
    },
    {
      "cell_type": "code",
      "metadata": {
        "id": "iLsR29vgzoRN",
        "collapsed": true
      },
      "source": [
        "#Read csv file\n",
        "data1 = pd.read_csv ('ETFs.csv',parse_dates=['inception_date'])\n",
        "data2 = pd.read_csv ('companies.csv')\n",
        "data3 = pd.read_csv ('full_financial_stocks_raw.csv')"
      ],
      "execution_count": null,
      "outputs": []
    },
    {
      "cell_type": "code",
      "metadata": {
        "id": "CnqhsH7qDL28"
      },
      "source": [
        "#Transfering file into dataframe with need columns\n",
        "df1=pd.DataFrame(data1,columns=['fund_symbol','fund_extended_name','investment_type','size_type'])\n",
        "df2=pd.DataFrame(data1,columns=['fund_extended_name','fund_treynor_ratio_3years','fund_treynor_ratio_5years','fund_treynor_ratio_10years'])\n",
        "df3=pd.DataFrame(data1,columns=['fund_extended_name','fund_return_3months','fund_return_1year','fund_return_3years','fund_return_5years'])\n",
        "df4=pd.DataFrame(data1,columns=['fund_extended_name','fund_yield'])\n",
        "df5=pd.DataFrame(data1,columns=['fund_extended_name','net_asset_value','fund_net_annual_expense_ratio'])\n",
        "df6=pd.DataFrame(data1,columns=['top10_holdings'])\n",
        "df7=pd.DataFrame(data2,columns=['ticker','company name','short name','exchange','market cap'])\n",
        "df8=pd.DataFrame(data3,columns=['symbol','security_name','regularMarketPrice'])\n",
        "df9=pd.DataFrame(data3,columns=['symbol','security_name','forwardEps'])\n",
        "df10=pd.DataFrame(data3,columns=['symbol','security_name','forwardPE'])\n",
        "df12=pd.DataFrame(data1,columns=['fund_extended_name','top10_holdings','inception_date'])"
      ],
      "execution_count": null,
      "outputs": []
    },
    {
      "cell_type": "code",
      "metadata": {
        "id": "egSvtVIc5PBY"
      },
      "source": [
        "#Split the hodings to different columns\n",
        "df6['top10_holdings'] =(df6['top10_holdings'].astype(str)) #convert data type to string\n",
        "df6=df6.top10_holdings.str.split(',',expand=True) #split holding column\n",
        "df6 = pd.concat([df12, df6], axis=1) #concat two column\n",
        "df6.columns = ['fund_extended_name','top10_holdings','inception_date','holding1','holding2','holding3','holding4','holding5','holding6','holding7','holding8','holding9','holding10','holding11','holding12','holding13','holding14','holding15','holding16']\n",
        "\n",
        "#Change NaN to None which allows mysql read\n",
        "df1=df1.replace({np.nan:None})\n",
        "df2=df2.replace({np.nan:None})\n",
        "df3=df3.replace({np.nan:None})\n",
        "df4=df4.replace({np.nan:None})\n",
        "df5=df5.replace({np.nan:None})\n",
        "df6=df6.replace({np.nan:None})\n",
        "df7=df7.replace({np.nan:None})\n",
        "df8=df8.replace({np.nan:None})\n",
        "df9=df9.replace({np.nan:None})\n",
        "df10=df10.replace({np.nan:None})"
      ],
      "execution_count": null,
      "outputs": []
    },
    {
      "cell_type": "code",
      "metadata": {
        "id": "DcW5VhEvpGSW"
      },
      "source": [
        "#Convert dataframe to list\n",
        "dfa=df1.values.tolist()\n",
        "dfb=df2.values.tolist()\n",
        "dfc=df3.values.tolist()\n",
        "dfd=df4.values.tolist()\n",
        "dfe=df5.values.tolist()\n",
        "dff=df6.values.tolist()\n",
        "dfg=df7.values.tolist()\n",
        "dfh=df8.values.tolist()\n",
        "dfi=df9.values.tolist()\n",
        "dfj=df10.values.tolist()"
      ],
      "execution_count": null,
      "outputs": []
    },
    {
      "cell_type": "code",
      "metadata": {
        "id": "TpHn0nANIYix"
      },
      "source": [
        "#Create fund table in Mysql\n",
        "sql1=\"\"\"Create Table if not exists Fund_dim (\n",
        "fund_symbol VARCHAR(255),\n",
        "fund_extended_name VARCHAR(255),\n",
        "investment_type VARCHAR(255),\n",
        "size_type VARCHAR(255));\"\"\"\n",
        "cursor=connection.cursor()\n",
        "cursor.execute(sql1)\n",
        "connection.commit()\n",
        "\n",
        "#Create risk table in Mysql\n",
        "sql2=\"\"\"Create Table if not exists Risk_dim (\n",
        "fund_extended_name VARCHAR(255),\n",
        "fund_treynor_ratio_3years FLOAT,\n",
        "fund_treynor_ratio_5years FLOAT,\n",
        "fund_treynor_ratio_10years FLOAT);\"\"\"\n",
        "cursor=connection.cursor()\n",
        "cursor.execute(sql2)\n",
        "connection.commit()\n",
        "\n",
        "#Create returns table in Mysql\n",
        "sql3=\"\"\"Create Table if not exists Returns_dim (\n",
        "fund_extended_name VARCHAR(255),\n",
        "fund_return_3months FLOAT,\n",
        "fund_return_1year FLOAT,\n",
        "fund_return_3years FLOAT,\n",
        "fund_return_5years FLOAT);\"\"\"\n",
        "cursor=connection.cursor()\n",
        "cursor.execute(sql3)\n",
        "connection.commit()\n",
        "\n",
        "#Create yield table in Mysql\n",
        "sql4=\"\"\"Create Table if not exists Yield_dim (\n",
        "fund_extended_name VARCHAR(255),\n",
        "fund_yield FLOAT);\"\"\"\n",
        "cursor=connection.cursor()\n",
        "cursor.execute(sql4)\n",
        "connection.commit()\n",
        "\n",
        "#Create expense table in Mysql\n",
        "sql5=\"\"\"Create Table if not exists Expense_dim (\n",
        "fund_extended_name VARCHAR(255),\n",
        "net_asset_value FLOAT,\n",
        "fund_net_annual_expense_ratio FLOAT);\"\"\"\n",
        "cursor=connection.cursor()\n",
        "cursor.execute(sql5)\n",
        "connection.commit()\n",
        "\n",
        "#Create fund table in Mysql\n",
        "sql6=\"\"\"Create Table if not exists Fund_fact (\n",
        "fund_extended_name VARCHAR(255),\n",
        "top10_holdings VARCHAR(1000),\n",
        "inception_date DATE,\n",
        "holding1 VARCHAR(255),\n",
        "holding2 VARCHAR(255),\n",
        "holding3 VARCHAR(255),\n",
        "holding4 VARCHAR(255),\n",
        "holding5 VARCHAR(255),\n",
        "holding6 VARCHAR(255),\n",
        "holding7 VARCHAR(255),\n",
        "holding8 VARCHAR(255),\n",
        "holding9 VARCHAR(255),\n",
        "holding10 VARCHAR(255),\n",
        "holding11 VARCHAR(255),\n",
        "holding12 VARCHAR(255),\n",
        "holding13 VARCHAR(255),\n",
        "holding14 VARCHAR(255),\n",
        "holding15 VARCHAR(255),\n",
        "holding16 VARCHAR(255));\"\"\"\n",
        "cursor.execute(sql6)\n",
        "connection.commit()\n",
        "\n",
        "#Create firm table in Mysql\n",
        "sql7=\"\"\"Create Table if not exists Firm_dim (\n",
        "ticker VARCHAR(255),\n",
        "company_name VARCHAR(255),\n",
        "short_name VARCHAR(255),\n",
        "exchange VARCHAR(255),\n",
        "market_cap FLOAT);\"\"\"\n",
        "cursor=connection.cursor()\n",
        "cursor.execute(sql7)\n",
        "connection.commit()\n",
        "\n",
        "#Create firm fact table in Mysql\n",
        "sql8=\"\"\"Create Table if not exists Firm_fact (\n",
        "symbol VARCHAR(255),\n",
        "security_name VARCHAR(255),\n",
        "regularMarketPrice FLOAT);\"\"\"\n",
        "cursor=connection.cursor()\n",
        "cursor.execute(sql8)\n",
        "connection.commit()\n",
        "\n",
        "#Create EPS table in Mysql\n",
        "sql9=\"\"\"Create Table if not exists EPS_dim (\n",
        "symbol VARCHAR(255),\n",
        "security_name VARCHAR(255),\n",
        "forwardEps FLOAT);\"\"\"\n",
        "cursor=connection.cursor()\n",
        "cursor.execute(sql9)\n",
        "connection.commit()\n",
        "\n",
        "#Create PE table in Mysql\n",
        "sql10=\"\"\"Create Table if not exists PE_dim (\n",
        "symbol VARCHAR(255),\n",
        "security_name VARCHAR(255),\n",
        "forwardPE FLOAT);\"\"\"\n",
        "cursor=connection.cursor()\n",
        "cursor.execute(sql10)\n",
        "connection.commit()"
      ],
      "execution_count": null,
      "outputs": []
    },
    {
      "cell_type": "code",
      "metadata": {
        "id": "qMPucd06KOwH",
        "colab": {
          "base_uri": "https://localhost:8080/",
          "height": 234
        },
        "outputId": "2e09c4ed-1404-4018-dd22-71ad4d454c16"
      },
      "source": [
        "#Insert list to Mysql\n",
        "cursor.executemany(\"INSERT INTO Fund_dim VALUES (%s,%s,%s,%s);\",dfa)\n",
        "connection.commit()\n",
        "cursor.executemany(\"INSERT INTO Risk_dim VALUES (%s,%s,%s,%s);\",dfb)\n",
        "connection.commit()\n",
        "cursor.executemany(\"INSERT INTO Returns_dim VALUES (%s,%s,%s,%s,%s);\",dfc)\n",
        "connection.commit()\n",
        "cursor.executemany(\"INSERT INTO Yield_dim VALUES (%s,%s);\",dfd)\n",
        "connection.commit()\n",
        "cursor.executemany(\"INSERT INTO Expense_dim VALUES (%s,%s,%s);\",dfe)\n",
        "connection.commit()\n",
        "cursor.executemany(\"INSERT INTO Fund_fact VALUES (%s,%s,%s,%s,%s,%s,%s,%s,%s,%s,%s,%s,%s,%s,%s,%s,%s,%s,%s);\",dff)\n",
        "connection.commit()\n",
        "cursor.executemany(\"INSERT INTO Firm_dim VALUES (%s,%s,%s,%s,%s);\",dfg)\n",
        "connection.commit()\n",
        "cursor.executemany(\"INSERT INTO Firm_fact VALUES (%s,%s,%s);\",dfh)\n",
        "connection.commit()\n",
        "cursor.executemany(\"INSERT INTO EPS_dim VALUES (%s,%s,%s);\",dfi)\n",
        "connection.commit()\n",
        "cursor.executemany(\"INSERT INTO PE_dim VALUES (%s,%s,%s);\",dfj)\n",
        "connection.commit()"
      ],
      "execution_count": null,
      "outputs": [
        {
          "output_type": "error",
          "ename": "NameError",
          "evalue": "ignored",
          "traceback": [
            "\u001b[0;31m---------------------------------------------------------------------------\u001b[0m",
            "\u001b[0;31mNameError\u001b[0m                                 Traceback (most recent call last)",
            "\u001b[0;32m<ipython-input-9-4bf1a1d71be8>\u001b[0m in \u001b[0;36m<module>\u001b[0;34m()\u001b[0m\n\u001b[1;32m      1\u001b[0m \u001b[0;31m#Insert list to Mysql\u001b[0m\u001b[0;34m\u001b[0m\u001b[0;34m\u001b[0m\u001b[0;34m\u001b[0m\u001b[0m\n\u001b[0;32m----> 2\u001b[0;31m \u001b[0mcursor\u001b[0m\u001b[0;34m.\u001b[0m\u001b[0mexecutemany\u001b[0m\u001b[0;34m(\u001b[0m\u001b[0;34m\"INSERT INTO Fund_dim VALUES (%s,%s,%s,%s);\"\u001b[0m\u001b[0;34m,\u001b[0m\u001b[0mdfa\u001b[0m\u001b[0;34m)\u001b[0m\u001b[0;34m\u001b[0m\u001b[0;34m\u001b[0m\u001b[0m\n\u001b[0m\u001b[1;32m      3\u001b[0m \u001b[0mconnection\u001b[0m\u001b[0;34m.\u001b[0m\u001b[0mcommit\u001b[0m\u001b[0;34m(\u001b[0m\u001b[0;34m)\u001b[0m\u001b[0;34m\u001b[0m\u001b[0;34m\u001b[0m\u001b[0m\n\u001b[1;32m      4\u001b[0m \u001b[0mcursor\u001b[0m\u001b[0;34m.\u001b[0m\u001b[0mexecutemany\u001b[0m\u001b[0;34m(\u001b[0m\u001b[0;34m\"INSERT INTO Risk_dim VALUES (%s,%s,%s,%s);\"\u001b[0m\u001b[0;34m,\u001b[0m\u001b[0mdfb\u001b[0m\u001b[0;34m)\u001b[0m\u001b[0;34m\u001b[0m\u001b[0;34m\u001b[0m\u001b[0m\n\u001b[1;32m      5\u001b[0m \u001b[0mconnection\u001b[0m\u001b[0;34m.\u001b[0m\u001b[0mcommit\u001b[0m\u001b[0;34m(\u001b[0m\u001b[0;34m)\u001b[0m\u001b[0;34m\u001b[0m\u001b[0;34m\u001b[0m\u001b[0m\n",
            "\u001b[0;31mNameError\u001b[0m: name 'cursor' is not defined"
          ]
        }
      ]
    },
    {
      "cell_type": "code",
      "metadata": {
        "id": "laptOgG2KOC9"
      },
      "source": [
        "#Close connection\n",
        "connection.close()"
      ],
      "execution_count": null,
      "outputs": []
    }
  ]
}